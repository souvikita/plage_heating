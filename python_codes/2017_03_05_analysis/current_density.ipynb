{
 "cells": [
  {
   "cell_type": "code",
   "execution_count": 2,
   "id": "a9604fa2",
   "metadata": {},
   "outputs": [],
   "source": [
    "import gauss_decomp as gdc\n",
    "import numpy as np\n",
    "from astropy.io import fits\n",
    "import os\n",
    "import matplotlib.pyplot as plt\n",
    "from matplotlib import colors\n",
    "from iris_lmsalpy import extract_irisL2data as ei\n",
    "from scipy.io import readsav\n",
    "from iris_lmsalpy import saveall as sv\n",
    "import glob\n",
    "import matplotlib"
   ]
  },
  {
   "cell_type": "code",
   "execution_count": 3,
   "id": "09bd6662",
   "metadata": {},
   "outputs": [],
   "source": [
    "os.environ['path']= '/Users/souvikb/various_analysis/GaussSep/'\n",
    "os.environ['results_dir'] = '/Users/souvikb/various_analysis/GaussSep/Results/'\n",
    "b_vec_path = '/Users/souvikb/various_analysis/GaussSep/bose_codes/plage_heating/b_vec_data'\n",
    "os.environ['IDL_saved_arrays'] = '/Users/souvikb/various_analysis/GaussSep/bose_codes/alignment_saved_files/20170305_164005/'"
   ]
  },
  {
   "cell_type": "code",
   "execution_count": 4,
   "id": "3e7e520b",
   "metadata": {},
   "outputs": [
    {
     "ename": "FileNotFoundError",
     "evalue": "[Errno 2] No such file or directory: '/alignment_params.sav'",
     "output_type": "error",
     "traceback": [
      "\u001b[31m---------------------------------------------------------------------------\u001b[39m",
      "\u001b[31mFileNotFoundError\u001b[39m                         Traceback (most recent call last)",
      "\u001b[36mCell\u001b[39m\u001b[36m \u001b[39m\u001b[32mIn[4]\u001b[39m\u001b[32m, line 1\u001b[39m\n\u001b[32m----> \u001b[39m\u001b[32m1\u001b[39m aligned_params = \u001b[43mreadsav\u001b[49m\u001b[43m(\u001b[49m\u001b[43mos\u001b[49m\u001b[43m.\u001b[49m\u001b[43mpath\u001b[49m\u001b[43m.\u001b[49m\u001b[43mjoin\u001b[49m\u001b[43m(\u001b[49m\u001b[43mos\u001b[49m\u001b[43m.\u001b[49m\u001b[43menviron\u001b[49m\u001b[43m[\u001b[49m\u001b[33;43m'\u001b[39;49m\u001b[33;43mIDL_saved_arrays\u001b[39;49m\u001b[33;43m'\u001b[39;49m\u001b[43m]\u001b[49m\u001b[43m,\u001b[49m\u001b[33;43m'\u001b[39;49m\u001b[33;43m/alignment_params.sav\u001b[39;49m\u001b[33;43m'\u001b[39;49m\u001b[43m)\u001b[49m\u001b[43m)\u001b[49m\n",
      "\u001b[36mFile \u001b[39m\u001b[32m~/miniforge3/envs/gauss_decomp/lib/python3.11/site-packages/scipy/io/_idl.py:754\u001b[39m, in \u001b[36mreadsav\u001b[39m\u001b[34m(file_name, idict, python_dict, uncompressed_file_name, verbose)\u001b[39m\n\u001b[32m    751\u001b[39m     variables = AttrDict()\n\u001b[32m    753\u001b[39m \u001b[38;5;66;03m# Open the IDL file\u001b[39;00m\n\u001b[32m--> \u001b[39m\u001b[32m754\u001b[39m f = \u001b[38;5;28;43mopen\u001b[39;49m\u001b[43m(\u001b[49m\u001b[43mfile_name\u001b[49m\u001b[43m,\u001b[49m\u001b[43m \u001b[49m\u001b[33;43m'\u001b[39;49m\u001b[33;43mrb\u001b[39;49m\u001b[33;43m'\u001b[39;49m\u001b[43m)\u001b[49m\n\u001b[32m    756\u001b[39m \u001b[38;5;66;03m# Read the signature, which should be 'SR'\u001b[39;00m\n\u001b[32m    757\u001b[39m signature = _read_bytes(f, \u001b[32m2\u001b[39m)\n",
      "\u001b[31mFileNotFoundError\u001b[39m: [Errno 2] No such file or directory: '/alignment_params.sav'"
     ]
    }
   ],
   "source": [
    "aligned_params = readsav(os.path.join(os.environ['IDL_saved_arrays'], 'alignment_params.sav'))\n"
   ]
  },
  {
   "cell_type": "code",
   "execution_count": 12,
   "id": "58cc3768",
   "metadata": {},
   "outputs": [
    {
     "ename": "NameError",
     "evalue": "name 'y_sampling_sot' is not defined",
     "output_type": "error",
     "traceback": [
      "\u001b[31m---------------------------------------------------------------------------\u001b[39m",
      "\u001b[31mNameError\u001b[39m                                 Traceback (most recent call last)",
      "\u001b[36mCell\u001b[39m\u001b[36m \u001b[39m\u001b[32mIn[12]\u001b[39m\u001b[32m, line 9\u001b[39m\n\u001b[32m      6\u001b[39m fig, ax = plt.subplots(nrows=\u001b[32m1\u001b[39m, ncols =\u001b[32m3\u001b[39m,figsize=(\u001b[32m15\u001b[39m,\u001b[32m5\u001b[39m),sharex=\u001b[38;5;28;01mTrue\u001b[39;00m,sharey=\u001b[38;5;28;01mTrue\u001b[39;00m)\n\u001b[32m      7\u001b[39m ax= ax.ravel()\n\u001b[32m----> \u001b[39m\u001b[32m9\u001b[39m im=ax[\u001b[32m0\u001b[39m].imshow(Bz0_obs, cmap=\u001b[33m'\u001b[39m\u001b[33mgray\u001b[39m\u001b[33m'\u001b[39m, vmax=\u001b[32m500\u001b[39m,vmin=-\u001b[32m500\u001b[39m,origin=\u001b[33m'\u001b[39m\u001b[33mlower\u001b[39m\u001b[33m'\u001b[39m, extent =[\u001b[32m0\u001b[39m,Bz0_obs.shape[\u001b[32m1\u001b[39m]*\u001b[43my_sampling_sot\u001b[49m, \u001b[32m0\u001b[39m,Bz0_obs.shape[\u001b[32m0\u001b[39m]*x_sampling_sot])\n\u001b[32m     10\u001b[39m ax[\u001b[32m0\u001b[39m].set_title(\u001b[33mr\u001b[39m\u001b[33m'\u001b[39m\u001b[33mB$_\u001b[39m\u001b[38;5;132;01m{z}\u001b[39;00m\u001b[33m$ (G)\u001b[39m\u001b[33m'\u001b[39m)\n\u001b[32m     11\u001b[39m ax[\u001b[32m0\u001b[39m].set_xlabel(\u001b[33m'\u001b[39m\u001b[33marcsec\u001b[39m\u001b[33m'\u001b[39m)\n",
      "\u001b[31mNameError\u001b[39m: name 'y_sampling_sot' is not defined"
     ]
    },
    {
     "data": {
      "image/png": "[encoded data removed]",
      "text/plain": [
       "<Figure size 1500x500 with 3 Axes>"
      ]
     },
     "metadata": {},
     "output_type": "display_data"
    }
   ],
   "source": [
    "b_mag = readsav(b_vec_path+'/bxbybz_20170305_164005.sav')\n",
    "b_mag.keys()\n",
    "Bx0_obs = b_mag['bx']\n",
    "By0_obs = b_mag['by']\n",
    "Bz0_obs = b_mag['bz']\n",
    "fig, ax = plt.subplots(nrows=1, ncols =3,figsize=(15,5),sharex=True,sharey=True)\n",
    "ax= ax.ravel()\n",
    "\n",
    "im=ax[0].imshow(Bz0_obs, cmap='gray', vmax=500,vmin=-500,origin='lower', extent =[0,Bz0_obs.shape[1]*y_sampling_sot, 0,Bz0_obs.shape[0]*x_sampling_sot])\n",
    "ax[0].set_title(r'B$_{z}$ (G)')\n",
    "ax[0].set_xlabel('arcsec')\n",
    "ax[0].set_ylabel('arcsec')\n",
    "plt.colorbar(im, fraction=0.024)\n",
    "\n",
    "im=ax[1].imshow(Bx0_obs, cmap='gray', vmax=200,vmin=-200,origin='lower',extent =[0,Bz0_obs.shape[1]*y_sampling_sot, 0,Bz0_obs.shape[0]*x_sampling_sot])\n",
    "ax[1].set_title(r'B$_{x}$ (G)')\n",
    "ax[1].set_xlabel('arcsec')\n",
    "plt.colorbar(im, fraction=0.024)\n",
    "\n",
    "im=ax[2].imshow(By0_obs, cmap='gray', vmax=200,vmin=-200,origin='lower',extent =[0,Bz0_obs.shape[1]*y_sampling_sot, 0,Bz0_obs.shape[0]*x_sampling_sot])\n",
    "ax[2].set_title(r'B$_{y}$ (G)')\n",
    "ax[2].set_xlabel('arcsec')\n",
    "plt.colorbar(im, fraction=0.024)"
   ]
  },
  {
   "cell_type": "code",
   "execution_count": null,
   "id": "37cdb6d9",
   "metadata": {},
   "outputs": [],
   "source": []
  },
  {
   "cell_type": "code",
   "metadata": {},
   "execution_count": null,
   "outputs": [],
   "source": [
    "fig, ax = plt.subplots(figsize=(6, 5))\n",
    "bz_abs = np.abs(Bz0_obs).ravel()\n",
    "energy = B_energy_density.ravel()\n",
    "mask = np.isfinite(bz_abs) & np.isfinite(energy) & (energy > 0)\n",
    "hb = ax.hexbin(bz_abs[mask], energy[mask], gridsize=75, cmap='magma',\n",
    "                 norm=colors.LogNorm())\n",
    "ax.set_xlabel(r'$|B_z|$ (G)')\n",
    "ax.set_ylabel('Energy density (J m$^{-3}$)')\n",
    "ax.set_title('JPDF of |B_z| vs Magnetic Energy Density')\n",
    "cbar = fig.colorbar(hb, ax=ax)\n",
    "cbar.set_label('Counts per hexbin')\n"
   ]
  }
 ],
 "metadata": {
  "kernelspec": {
   "display_name": "gauss_decomp",
   "language": "python",
   "name": "python3"
  },
  "language_info": {
   "codemirror_mode": {
    "name": "ipython",
    "version": 3
   },
   "file_extension": ".py",
   "mimetype": "text/x-python",
   "name": "python",
   "nbconvert_exporter": "python",
   "pygments_lexer": "ipython3",
   "version": "3.11.13"
  }
 },
 "nbformat": 4,
 "nbformat_minor": 5
}